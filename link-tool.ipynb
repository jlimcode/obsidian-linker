{
 "cells": [
  {
   "cell_type": "code",
   "execution_count": 78,
   "metadata": {},
   "outputs": [],
   "source": [
    "OBSIDIAN_VAULT_URL = \"./link_demo\""
   ]
  },
  {
   "cell_type": "code",
   "execution_count": 79,
   "metadata": {},
   "outputs": [],
   "source": [
    "# recursively find all markdown file names in the vault directory\n",
    "\n",
    "import os\n",
    "import re\n",
    "import glob\n",
    "\n",
    "def find_markdown_files(directory: str) -> list[str]:\n",
    "    \"\"\"\n",
    "    Find all markdown files in the directory and its subdirectories.\n",
    "\n",
    "    Args:\n",
    "        directory (str): The directory to search for markdown files.\n",
    "\n",
    "    Returns:\n",
    "        list[str]: A list of markdown files found in the directory and its subdirectories.\n",
    "    \"\"\"\n",
    "    markdown_files = glob.glob(directory + '/**/*.md', recursive=True)\n",
    "    return markdown_files"
   ]
  },
  {
   "cell_type": "code",
   "execution_count": 93,
   "metadata": {},
   "outputs": [
    {
     "name": "stdout",
     "output_type": "stream",
     "text": [
      "['./link_demo/Obsidian vs. Roam Research.md',\n",
      " './link_demo/Appending Drafts to Dropbox Daily Notes in Obsidian.md',\n",
      " './link_demo/The Power of the Local Graph.md',\n",
      " './link_demo/Splitting Notes in Obsidian.md',\n",
      " './link_demo/Timeblocking in Obsidian.md',\n",
      " './link_demo/Connecting Notes & Bidirectional Linking.md',\n",
      " './link_demo/Keyboard Hotkeys and The Command Pallette.md',\n",
      " './link_demo/Using Templates in Obsidian.md',\n",
      " './link_demo/Changing Your Obsidian Theme.md',\n",
      " \"./link_demo/Nick Milo's Mindfulness Monday Interview.md\"]\n"
     ]
    }
   ],
   "source": [
    "from pprint import pprint\n",
    "\n",
    "# test find_markdown_files\n",
    "\n",
    "files = find_markdown_files(OBSIDIAN_VAULT_URL)\n",
    "pprint(files[:10])"
   ]
  },
  {
   "cell_type": "code",
   "execution_count": 81,
   "metadata": {},
   "outputs": [],
   "source": [
    "# extract just the filename, without extension, from a filepath \n",
    "\n",
    "def extract_filename(filepath: str) -> str:\n",
    "    \"\"\"\n",
    "    Extract the filename from the filepath without the extension.\n",
    "\n",
    "    Args:\n",
    "        filepath (str): The filepath to extract the filename from.\n",
    "\n",
    "    Returns:\n",
    "        str: The filename without the extension.\n",
    "    \"\"\"\n",
    "    filename = os.path.basename(filepath) # get the filename from the filepath\n",
    "    filename = os.path.splitext(filename)[0] # remove the extension from the filename\n",
    "    return filename"
   ]
  },
  {
   "cell_type": "code",
   "execution_count": 87,
   "metadata": {},
   "outputs": [
    {
     "name": "stdout",
     "output_type": "stream",
     "text": [
      "Obsidian_vs._Roam_Research\n",
      "Appending_Drafts_to_Dropbox_Daily_Notes_in_Obsidian\n",
      "The_Power_of_the_Local_Graph\n",
      "Splitting_Notes_in_Obsidian\n",
      "Timeblocking_in_Obsidian\n",
      "Connecting_Notes_&_Bidirectional_Linking\n",
      "Keyboard_Hotkeys_and_The_Command_Pallette\n",
      "Using_Templates_in_Obsidian\n",
      "Changing_Your_Obsidian_Theme\n",
      "Nick_Milo's_Mindfulness_Monday_Interview\n"
     ]
    }
   ],
   "source": [
    "# test extract_filename on 10 files \n",
    "\n",
    "for file in files[:10]:\n",
    "    filename = extract_filename(file)\n",
    "    filename = filename.replace(' ', '_')\n",
    "    print(filename)\n"
   ]
  },
  {
   "cell_type": "code",
   "execution_count": 83,
   "metadata": {},
   "outputs": [],
   "source": [
    "from collections import defaultdict\n",
    "import re\n",
    "\n",
    "class Reference:\n",
    "    def __init__(self, filename, line_number, line_text):\n",
    "        self.filename = filename\n",
    "        self.line_number = line_number\n",
    "        self.line_text = line_text\n",
    "\n",
    "def find_references(files: list[str]) -> dict[str, list[Reference]]:\n",
    "    \"\"\"\n",
    "    Find all references to each filename in the list of files.\n",
    "\n",
    "    Args:\n",
    "        files (list[str]): A list of files to search for references.\n",
    "\n",
    "    Returns:\n",
    "        dict[str, list[Reference]]: A dictionary of filenames and a list of references to the filename.\n",
    "    \"\"\"\n",
    "    references = defaultdict(list)  # Use defaultdict with list as the default factory\n",
    "    for file in files:\n",
    "        filename = extract_filename(file)\n",
    "        for search_file in files:\n",
    "            if file == search_file:\n",
    "                continue  # skip the file itself\n",
    "            with open(search_file, 'r') as f:\n",
    "                for line_number, line in enumerate(f, start=1):\n",
    "                    # skip blank lines\n",
    "                    if len(line.strip()) == 0:\n",
    "                        continue\n",
    "                    if re.search(rf'(?:\\s|^|\\*){filename}(?:\\s|$|\\*)', line):\n",
    "                        reference = Reference(search_file, line_number, line)\n",
    "                        references[filename].append(reference)\n",
    "    return references"
   ]
  },
  {
   "cell_type": "code",
   "execution_count": 84,
   "metadata": {},
   "outputs": [
    {
     "name": "stdout",
     "output_type": "stream",
     "text": [
      "defaultdict(<class 'list'>, {'Obsidian vs. Roam Research': [<__main__.Reference object at 0x106a3b7f0>], 'Welcome': [<__main__.Reference object at 0x106aa2ee0>], 'Writing': [<__main__.Reference object at 0x106aa27c0>, <__main__.Reference object at 0x106963df0>, <__main__.Reference object at 0x1069632b0>, <__main__.Reference object at 0x106aa7910>], 'Productivity': [<__main__.Reference object at 0x106a7f280>], 'create a link': [<__main__.Reference object at 0x106978160>, <__main__.Reference object at 0x106a7f3d0>], 'Journaling': [<__main__.Reference object at 0x1068b1790>]})\n"
     ]
    }
   ],
   "source": [
    "# test find_references \n",
    "\n",
    "references = find_references(files)\n",
    "print(references)"
   ]
  },
  {
   "cell_type": "code",
   "execution_count": 85,
   "metadata": {},
   "outputs": [],
   "source": [
    "# given a dictionary of references, print each reference, with the line and the filename highlighted in green \n",
    "\n",
    "def print_references(references: dict[str, list[Reference]]):\n",
    "    \"\"\"\n",
    "    Print each reference in the references dictionary, with the filename and line highlighted in green.\n",
    "\n",
    "    Args:\n",
    "        references (dict[str, list[Reference]]): A dictionary of filenames and a list of references to the filename.\n",
    "    \"\"\"\n",
    "    for filename, refs in references.items():\n",
    "        print(f\"\\n\\033[92m{filename}\\033[0m\")\n",
    "        for ref in refs:\n",
    "            ref_text = ref.line_text.strip()\n",
    "            # prepend the line number to the line text in light blue\n",
    "            ref_text = f\"\\033[94m{ref.line_number}\\033[0m: {ref_text}\"\n",
    "            ref_text = ref_text.replace(filename, f\"\\033[92m{filename}\\033[0m\")\n",
    "            # append the filename in parentheses in light gray\n",
    "            ref_text += f\" (\\033[90m{ref.filename}\\033[0m)\"\n",
    "            print(ref_text)\n"
   ]
  },
  {
   "cell_type": "code",
   "execution_count": 86,
   "metadata": {},
   "outputs": [
    {
     "name": "stdout",
     "output_type": "stream",
     "text": [
      "\n",
      "\u001b[92mObsidian vs. Roam Research\u001b[0m\n",
      "\u001b[94m24\u001b[0m: - `&file=Articles%2FObsidian%20vs.%20Roam%20Research` specifies the file path in the vault. *Articles* is the folder, and *\u001b[92mObsidian vs. Roam Research\u001b[0m* is the file name. *%2F* represents the slash in the directory path, and *%20* represents the spaces in the file name. (\u001b[90m./link_demo/Callback URLs in Obsidian.md\u001b[0m)\n",
      "\n",
      "\u001b[92mWelcome\u001b[0m\n",
      "\u001b[94m3\u001b[0m: And an unlinked mention: \u001b[92mWelcome\u001b[0m (\u001b[90m./link_demo/create a link.md\u001b[0m)\n",
      "\n",
      "\u001b[92mWriting\u001b[0m\n",
      "\u001b[94m70\u001b[0m: - [ ] 15:00 \u001b[92mWriting\u001b[0m (\u001b[90m./link_demo/Timeblocking in Obsidian.md\u001b[0m)\n",
      "\u001b[94m54\u001b[0m: ## Obsidian Community Plugins for an Upgraded \u001b[92mWriting\u001b[0m Experience (\u001b[90m./link_demo/Turning Obsidian into the Perfect Writing App.md\u001b[0m)\n",
      "\u001b[94m48\u001b[0m: This is my favorite plugin, hands down. I can't recommend it enough. And if you want to read more about how I use it, check out [[Mike's Obsidian-Based \u001b[92mWriting\u001b[0m Workflow]]. (\u001b[90m./link_demo/A Few of Our Favorite Obsidian Plugins.md\u001b[0m)\n",
      "\u001b[94m104\u001b[0m: It's pretty simple as far as plugins go, but it makes Obsidian an even better writing tool. If you want to know more, check out [[Turning Obsidian into the Perfect \u001b[92mWriting\u001b[0m App]]. (\u001b[90m./link_demo/A Few of Our Favorite Obsidian Plugins.md\u001b[0m)\n",
      "\n",
      "\u001b[92mProductivity\u001b[0m\n",
      "\u001b[94m8\u001b[0m: The last 18 months could be classified as \"the rise of the connected note-taking app.\" In the past year, [Roam Research raised $9 million dollars (with a $200 million valuation) ](https://www.theinformation.com/articles/a-200-million-seed-valuation-for-roam-shows-investor-frenzy-for-note-taking-apps), [Obsidian was nominated for the Product Hunt Golden Kitty award from for the \u001b[92mProductivity\u001b[0m category](https://www.producthunt.com/stories/announcing-the-2020-golden-kitty-award-winners), and countless other note-taking apps entered the productivity space with their own version of bidirectional linking features. [Even Drafts got an update which allows wiki-style cross-linking](https://docs.getdrafts.com/docs/drafts/cross-linking). (\u001b[90m./link_demo/Obsidian vs. Roam Research.md\u001b[0m)\n",
      "\n",
      "\u001b[92mcreate a link\u001b[0m\n",
      "\u001b[94m111\u001b[0m: Linking to pages in Obsidian is simple: just use `[[pagetitle]]` anywhere in your text to add a link to the note with that page title. Obsidian's auto-complete helps you find the page you want to link to, or you can \u001b[92mcreate a link\u001b[0m to new page by entering a text string that doesn't currently exist in a note title. You can click on these links to navigate to that page when in Preview mode, and the connection also shows up in the graph view. (\u001b[90m./link_demo/Obsidian vs. Roam Research.md\u001b[0m)\n",
      "\u001b[94m34\u001b[0m: Note that bidirectional linking is *not* the same as wiki-style linking, which many plain text apps like nvALT have supported for a long time. You use special characters (oftentimes double brackets, just like in Obsidian) to \u001b[92mcreate a link\u001b[0m to another page, but the important difference here is that the link only goes one direction. (\u001b[90m./link_demo/The Power of the Local Graph.md\u001b[0m)\n",
      "\n",
      "\u001b[92mJournaling\u001b[0m\n",
      "\u001b[94m24\u001b[0m: I have this set to capture new Daily Notes to a *Daily Notes* folder using my *\u001b[92mJournaling\u001b[0m template* inside of my *Templates* directory. This will take the contents of that file and insert it into the new Daily Note when I create it. So let's close our settings, and take a look at our journaling template. (\u001b[90m./link_demo/Journaling in Obsidian with QuickAdd.md\u001b[0m)\n"
     ]
    }
   ],
   "source": [
    "# test print_references\n",
    "\n",
    "print_references(references)"
   ]
  },
  {
   "cell_type": "markdown",
   "metadata": {},
   "source": [
    "## TODO \n",
    "\n",
    "- Truncate context line output to a couple words on either side of the reference \n",
    "- Add interface for creating the explicit links "
   ]
  }
 ],
 "metadata": {
  "kernelspec": {
   "display_name": "base",
   "language": "python",
   "name": "python3"
  },
  "language_info": {
   "codemirror_mode": {
    "name": "ipython",
    "version": 3
   },
   "file_extension": ".py",
   "mimetype": "text/x-python",
   "name": "python",
   "nbconvert_exporter": "python",
   "pygments_lexer": "ipython3",
   "version": "3.9.16"
  }
 },
 "nbformat": 4,
 "nbformat_minor": 2
}
